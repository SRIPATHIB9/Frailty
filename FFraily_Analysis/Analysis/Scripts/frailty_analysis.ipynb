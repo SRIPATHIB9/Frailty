{
 "cells": [
  {
   "cell_type": "markdown",
   "id": "99ff26bb",
   "metadata": {},
   "source": [
    "# Frailty Analysis - Reproducible Workflow\n",
    "\n",
    "This notebook contains the full workflow for analyzing frailty data, including:\n",
    "1. **Data Cleaning**\n",
    "2. **Exploratory Data Analysis (EDA)**\n",
    "3. **Visualizations**"
   ]
  },
  {
   "cell_type": "markdown",
   "id": "ed6fbae0",
   "metadata": {},
   "source": [
    "## 1. Data Cleaning\n",
    "We will load the dataset, clean it, and save the processed version."
   ]
  },
  {
   "cell_type": "code",
   "execution_count": null,
   "id": "5929b265",
   "metadata": {},
   "outputs": [],
   "source": [
    "\n",
    "import pandas as pd\n",
    "\n",
    "# Load dataset\n",
    "df = pd.read_csv(\"data/raw/frailty_data.csv\")\n",
    "\n",
    "# Convert Frailty column to binary (N -> 0, Y -> 1)\n",
    "df[\"Frailty\"] = df[\"Frailty\"].map({\"N\": 0, \"Y\": 1})\n",
    "\n",
    "# Save cleaned data\n",
    "df.to_csv(\"data/cleaned/frailty_data.csv\", index=False)\n",
    "print(\"Cleaned dataset saved.\")\n"
   ]
  },
  {
   "cell_type": "markdown",
   "id": "d5efe17a",
   "metadata": {},
   "source": [
    "## 2. Exploratory Data Analysis (EDA)\n",
    "We will compute summary statistics and the correlation matrix."
   ]
  },
  {
   "cell_type": "code",
   "execution_count": null,
   "id": "bc03f4b9",
   "metadata": {},
   "outputs": [],
   "source": [
    "\n",
    "# Compute summary statistics\n",
    "summary_stats = df.describe()\n",
    "\n",
    "# Compute correlation matrix\n",
    "correlation_matrix = df.corr()\n",
    "\n",
    "# Save EDA outputs\n",
    "summary_stats.to_csv(\"analysis/reports/eda_summary.csv\")\n",
    "correlation_matrix.to_csv(\"analysis/reports/correlation_matrix.csv\")\n",
    "\n",
    "print(\"EDA results saved.\")\n",
    "summary_stats\n"
   ]
  },
  {
   "cell_type": "markdown",
   "id": "a9b951a3",
   "metadata": {},
   "source": [
    "## 3. Visualizations\n",
    "We will create and save histograms and scatter plots."
   ]
  },
  {
   "cell_type": "code",
   "execution_count": null,
   "id": "7030e69e",
   "metadata": {},
   "outputs": [],
   "source": [
    "\n",
    "import matplotlib.pyplot as plt\n",
    "import seaborn as sns\n",
    "\n",
    "# Histogram of Grip Strength\n",
    "plt.figure(figsize=(6,4))\n",
    "sns.histplot(df['Grip Strength'], bins=10, kde=True)\n",
    "plt.title(\"Distribution of Grip Strength\")\n",
    "plt.xlabel(\"Grip Strength (kg)\")\n",
    "plt.ylabel(\"Frequency\")\n",
    "plt.savefig(\"reports/visualization_plots/grip_strength_distribution.png\")\n",
    "plt.show()\n",
    "\n",
    "# Scatter plot of Grip Strength vs. Age\n",
    "plt.figure(figsize=(6,4))\n",
    "sns.scatterplot(x=df['Age'], y=df['Grip Strength'], hue=df['Frailty'])\n",
    "plt.title(\"Grip Strength vs Age\")\n",
    "plt.xlabel(\"Age (years)\")\n",
    "plt.ylabel(\"Grip Strength (kg)\")\n",
    "plt.savefig(\"reports/visualization_plots/grip_vs_age.png\")\n",
    "plt.show()\n",
    "\n",
    "print(\"Visualizations saved.\")\n"
   ]
  }
 ],
 "metadata": {},
 "nbformat": 4,
 "nbformat_minor": 5
}
